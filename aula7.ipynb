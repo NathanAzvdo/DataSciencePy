{
 "cells": [
  {
   "cell_type": "code",
   "execution_count": 20,
   "metadata": {},
   "outputs": [],
   "source": [
    "import numpy as np\n",
    "import pandas as pd"
   ]
  },
  {
   "cell_type": "code",
   "execution_count": 21,
   "metadata": {},
   "outputs": [],
   "source": [
    "dictionary = {'Python': 10, 'JavaScript': 9, 'MatLab': 7}\n",
    "\n",
    "series = pd.Series(dictionary)"
   ]
  },
  {
   "cell_type": "code",
   "execution_count": 22,
   "metadata": {},
   "outputs": [
    {
     "data": {
      "text/plain": [
       "C    4\n",
       "D    2\n",
       "dtype: int64"
      ]
     },
     "execution_count": 22,
     "metadata": {},
     "output_type": "execute_result"
    }
   ],
   "source": [
    "s = pd.Series(data=np.random.randint(1,5, 10), index='A B C D E F G H I J'.split())#cria valores inteiros aleatórios em 10 posições com indices do alfabeto\n",
    "\n",
    "s['A']#Acessando posição da series pelo indice que determinei\n",
    "s[2:4]#Acessando pela posição"
   ]
  },
  {
   "cell_type": "markdown",
   "metadata": {},
   "source": [
    "###Operadores\n"
   ]
  },
  {
   "cell_type": "code",
   "execution_count": 23,
   "metadata": {},
   "outputs": [
    {
     "data": {
      "text/plain": [
       "Facebook        NaN\n",
       "Github          NaN\n",
       "Instagram     937.0\n",
       "LinkedIn     1022.0\n",
       "Pinterest     839.0\n",
       "Reddit       1629.0\n",
       "Snapchat      877.0\n",
       "TikTok        484.0\n",
       "Twitter      1505.0\n",
       "WhatsApp       30.0\n",
       "YouTube      1283.0\n",
       "dtype: float64"
      ]
     },
     "execution_count": 23,
     "metadata": {},
     "output_type": "execute_result"
    }
   ],
   "source": [
    "Series1 = pd.Series(data=np.random.randint(1,1000, 10), index='Facebook Instagram Twitter LinkedIn TikTok Snapchat Pinterest Reddit YouTube WhatsApp'.split())\n",
    "Series2 = pd.Series(data=np.random.randint(1, 1000, 10), index='Github Instagram Twitter LinkedIn TikTok Snapchat Pinterest Reddit YouTube WhatsApp'.split())\n",
    "\n",
    "Series1+Series2\n"
   ]
  },
  {
   "cell_type": "markdown",
   "metadata": {},
   "source": [
    "Máscaras:"
   ]
  },
  {
   "cell_type": "code",
   "execution_count": 24,
   "metadata": {},
   "outputs": [
    {
     "data": {
      "text/plain": [
       "Index(['A', 'C', 'F', 'I'], dtype='object')"
      ]
     },
     "execution_count": 24,
     "metadata": {},
     "output_type": "execute_result"
    }
   ],
   "source": [
    "s[s>100]\n",
    "s[s>2].index"
   ]
  }
 ],
 "metadata": {
  "kernelspec": {
   "display_name": "Python 3",
   "language": "python",
   "name": "python3"
  },
  "language_info": {
   "codemirror_mode": {
    "name": "ipython",
    "version": 3
   },
   "file_extension": ".py",
   "mimetype": "text/x-python",
   "name": "python",
   "nbconvert_exporter": "python",
   "pygments_lexer": "ipython3",
   "version": "3.10.12"
  }
 },
 "nbformat": 4,
 "nbformat_minor": 2
}
