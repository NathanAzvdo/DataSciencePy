{
 "cells": [
  {
   "cell_type": "code",
   "execution_count": 24,
   "metadata": {},
   "outputs": [],
   "source": [
    "import numpy as np\n",
    "import pandas as pd\n",
    "import matplotlib.pyplot as plt"
   ]
  },
  {
   "cell_type": "code",
   "execution_count": 26,
   "metadata": {},
   "outputs": [
    {
     "name": "stdout",
     "output_type": "stream",
     "text": [
      "65\n",
      "4534\n",
      "3230.2\n",
      "0    4534\n",
      "dtype: int64\n",
      "count       5.00000\n",
      "mean     3230.20000\n",
      "std      1842.55331\n",
      "min        65.00000\n",
      "25%      3453.00000\n",
      "50%      3565.00000\n",
      "75%      4534.00000\n",
      "max      4534.00000\n",
      "dtype: float64\n"
     ]
    },
    {
     "data": {
      "text/plain": [
       "seg       67.334983\n",
       "terça     59.707621\n",
       "quarta    58.762233\n",
       "quinta     8.062258\n",
       "sexta     67.334983\n",
       "dtype: float64"
      ]
     },
     "execution_count": 26,
     "metadata": {},
     "output_type": "execute_result"
    }
   ],
   "source": [
    "Steps = pd.Series(data=[4534,3565,3453,65,4534], index=['seg', 'terça', 'quarta', 'quinta', 'sexta'])\n",
    "print(Steps.min())\n",
    "print(Steps.max())\n",
    "print(Steps.mean())\n",
    "print(Steps.mode())\n",
    "print(Steps.describe())\n",
    "\n",
    "np.sqrt(Steps)\n",
    "\n",
    "\n"
   ]
  }
 ],
 "metadata": {
  "kernelspec": {
   "display_name": "Python 3",
   "language": "python",
   "name": "python3"
  },
  "language_info": {
   "codemirror_mode": {
    "name": "ipython",
    "version": 3
   },
   "file_extension": ".py",
   "mimetype": "text/x-python",
   "name": "python",
   "nbconvert_exporter": "python",
   "pygments_lexer": "ipython3",
   "version": "3.10.12"
  }
 },
 "nbformat": 4,
 "nbformat_minor": 2
}
