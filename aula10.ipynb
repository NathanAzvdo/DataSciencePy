{
 "cells": [
  {
   "cell_type": "code",
   "execution_count": 78,
   "metadata": {},
   "outputs": [
    {
     "data": {
      "text/plain": [
       "Index(['Country', 'Population 2024', 'Population 2023', 'Area (km2)',\n",
       "       'Density (/km2)', 'Growth Rate', 'World %', 'World Rank'],\n",
       "      dtype='object')"
      ]
     },
     "execution_count": 78,
     "metadata": {},
     "output_type": "execute_result"
    }
   ],
   "source": [
    "import pandas as pd\n",
    "import numpy as np\n",
    "import matplotlib as plt\n",
    "\n",
    "Df = pd.read_csv('WorldPop.csv')\n",
    "Df.columns\n"
   ]
  },
  {
   "cell_type": "code",
   "execution_count": 79,
   "metadata": {},
   "outputs": [
    {
     "data": {
      "text/plain": [
       "RangeIndex(start=0, stop=234, step=1)"
      ]
     },
     "execution_count": 79,
     "metadata": {},
     "output_type": "execute_result"
    }
   ],
   "source": [
    "Df.index"
   ]
  },
  {
   "cell_type": "code",
   "execution_count": 80,
   "metadata": {},
   "outputs": [
    {
     "data": {
      "text/plain": [
       "<bound method Series.unique of 0       485.00\n",
       "1       151.00\n",
       "2        37.00\n",
       "3       149.00\n",
       "4       318.00\n",
       "        ...   \n",
       "229      43.00\n",
       "230       0.31\n",
       "231       7.00\n",
       "232     192.00\n",
       "233    1195.00\n",
       "Name: Density (/km2), Length: 234, dtype: float64>"
      ]
     },
     "execution_count": 80,
     "metadata": {},
     "output_type": "execute_result"
    }
   ],
   "source": [
    "Df['Density (/km2)'].unique"
   ]
  },
  {
   "cell_type": "code",
   "execution_count": 81,
   "metadata": {},
   "outputs": [
    {
     "data": {
      "text/plain": [
       "Density (/km2)\n",
       "4.00       6\n",
       "47.00      4\n",
       "26.00      4\n",
       "18.00      4\n",
       "78.00      3\n",
       "          ..\n",
       "441.00     1\n",
       "24.00      1\n",
       "0.31       1\n",
       "192.00     1\n",
       "1195.00    1\n",
       "Name: count, Length: 173, dtype: int64"
      ]
     },
     "execution_count": 81,
     "metadata": {},
     "output_type": "execute_result"
    }
   ],
   "source": [
    "Df['Density (/km2)'].value_counts()##conta as densidades disponíveis"
   ]
  },
  {
   "cell_type": "code",
   "execution_count": 82,
   "metadata": {},
   "outputs": [
    {
     "data": {
      "text/plain": [
       "np.float64(453.7882478632479)"
      ]
     },
     "execution_count": 82,
     "metadata": {},
     "output_type": "execute_result"
    }
   ],
   "source": [
    "Df['Density (/km2)'].mean()"
   ]
  },
  {
   "cell_type": "code",
   "execution_count": 83,
   "metadata": {},
   "outputs": [
    {
     "data": {
      "text/plain": [
       "np.float64(98.5)"
      ]
     },
     "execution_count": 83,
     "metadata": {},
     "output_type": "execute_result"
    }
   ],
   "source": [
    "Df['Density (/km2)'].median()"
   ]
  },
  {
   "cell_type": "code",
   "execution_count": 84,
   "metadata": {},
   "outputs": [
    {
     "data": {
      "text/plain": [
       "0    4.0\n",
       "Name: Density (/km2), dtype: float64"
      ]
     },
     "execution_count": 84,
     "metadata": {},
     "output_type": "execute_result"
    }
   ],
   "source": [
    "Df['Density (/km2)'].mode() "
   ]
  },
  {
   "cell_type": "code",
   "execution_count": 85,
   "metadata": {},
   "outputs": [
    {
     "data": {
      "text/plain": [
       "np.float64(0.011371338482007375)"
      ]
     },
     "execution_count": 85,
     "metadata": {},
     "output_type": "execute_result"
    }
   ],
   "source": [
    "Df['Growth Rate'].std()#Desvio padrão da taxa de crescimento em comparação a média"
   ]
  },
  {
   "cell_type": "code",
   "execution_count": 86,
   "metadata": {},
   "outputs": [
    {
     "data": {
      "text/plain": [
       "np.float64(3960749.858469448)"
      ]
     },
     "execution_count": 86,
     "metadata": {},
     "output_type": "execute_result"
    }
   ],
   "source": [
    "Df['Density (/km2)'].var()#variança dos dados"
   ]
  },
  {
   "cell_type": "code",
   "execution_count": 87,
   "metadata": {},
   "outputs": [
    {
     "data": {
      "text/html": [
       "<div>\n",
       "<style scoped>\n",
       "    .dataframe tbody tr th:only-of-type {\n",
       "        vertical-align: middle;\n",
       "    }\n",
       "\n",
       "    .dataframe tbody tr th {\n",
       "        vertical-align: top;\n",
       "    }\n",
       "\n",
       "    .dataframe thead th {\n",
       "        text-align: right;\n",
       "    }\n",
       "</style>\n",
       "<table border=\"1\" class=\"dataframe\">\n",
       "  <thead>\n",
       "    <tr style=\"text-align: right;\">\n",
       "      <th></th>\n",
       "      <th>Population 2024</th>\n",
       "      <th>Population 2023</th>\n",
       "      <th>Density (/km2)</th>\n",
       "      <th>Growth Rate</th>\n",
       "      <th>World %</th>\n",
       "      <th>World Rank</th>\n",
       "    </tr>\n",
       "  </thead>\n",
       "  <tbody>\n",
       "    <tr>\n",
       "      <th>count</th>\n",
       "      <td>2.340000e+02</td>\n",
       "      <td>2.340000e+02</td>\n",
       "      <td>234.000000</td>\n",
       "      <td>234.000000</td>\n",
       "      <td>228.000000</td>\n",
       "      <td>234.000000</td>\n",
       "    </tr>\n",
       "    <tr>\n",
       "      <th>mean</th>\n",
       "      <td>3.468862e+07</td>\n",
       "      <td>3.437442e+07</td>\n",
       "      <td>453.788248</td>\n",
       "      <td>0.009200</td>\n",
       "      <td>0.004446</td>\n",
       "      <td>117.500000</td>\n",
       "    </tr>\n",
       "    <tr>\n",
       "      <th>std</th>\n",
       "      <td>1.380750e+08</td>\n",
       "      <td>1.373864e+08</td>\n",
       "      <td>1990.163274</td>\n",
       "      <td>0.011371</td>\n",
       "      <td>0.017459</td>\n",
       "      <td>67.694165</td>\n",
       "    </tr>\n",
       "    <tr>\n",
       "      <th>min</th>\n",
       "      <td>5.260000e+02</td>\n",
       "      <td>5.180000e+02</td>\n",
       "      <td>0.140000</td>\n",
       "      <td>-0.030900</td>\n",
       "      <td>0.000000</td>\n",
       "      <td>1.000000</td>\n",
       "    </tr>\n",
       "    <tr>\n",
       "      <th>25%</th>\n",
       "      <td>4.264565e+05</td>\n",
       "      <td>4.225982e+05</td>\n",
       "      <td>39.500000</td>\n",
       "      <td>0.001925</td>\n",
       "      <td>0.000100</td>\n",
       "      <td>59.250000</td>\n",
       "    </tr>\n",
       "    <tr>\n",
       "      <th>50%</th>\n",
       "      <td>5.626359e+06</td>\n",
       "      <td>5.643895e+06</td>\n",
       "      <td>98.500000</td>\n",
       "      <td>0.007950</td>\n",
       "      <td>0.000750</td>\n",
       "      <td>117.500000</td>\n",
       "    </tr>\n",
       "    <tr>\n",
       "      <th>75%</th>\n",
       "      <td>2.392272e+07</td>\n",
       "      <td>2.324537e+07</td>\n",
       "      <td>248.250000</td>\n",
       "      <td>0.015675</td>\n",
       "      <td>0.003000</td>\n",
       "      <td>175.750000</td>\n",
       "    </tr>\n",
       "    <tr>\n",
       "      <th>max</th>\n",
       "      <td>1.441720e+09</td>\n",
       "      <td>1.428628e+09</td>\n",
       "      <td>21674.000000</td>\n",
       "      <td>0.048300</td>\n",
       "      <td>0.180100</td>\n",
       "      <td>234.000000</td>\n",
       "    </tr>\n",
       "  </tbody>\n",
       "</table>\n",
       "</div>"
      ],
      "text/plain": [
       "       Population 2024  Population 2023  Density (/km2)  Growth Rate  \\\n",
       "count     2.340000e+02     2.340000e+02      234.000000   234.000000   \n",
       "mean      3.468862e+07     3.437442e+07      453.788248     0.009200   \n",
       "std       1.380750e+08     1.373864e+08     1990.163274     0.011371   \n",
       "min       5.260000e+02     5.180000e+02        0.140000    -0.030900   \n",
       "25%       4.264565e+05     4.225982e+05       39.500000     0.001925   \n",
       "50%       5.626359e+06     5.643895e+06       98.500000     0.007950   \n",
       "75%       2.392272e+07     2.324537e+07      248.250000     0.015675   \n",
       "max       1.441720e+09     1.428628e+09    21674.000000     0.048300   \n",
       "\n",
       "          World %  World Rank  \n",
       "count  228.000000  234.000000  \n",
       "mean     0.004446  117.500000  \n",
       "std      0.017459   67.694165  \n",
       "min      0.000000    1.000000  \n",
       "25%      0.000100   59.250000  \n",
       "50%      0.000750  117.500000  \n",
       "75%      0.003000  175.750000  \n",
       "max      0.180100  234.000000  "
      ]
     },
     "execution_count": 87,
     "metadata": {},
     "output_type": "execute_result"
    }
   ],
   "source": [
    "Df.describe()"
   ]
  },
  {
   "cell_type": "code",
   "execution_count": 88,
   "metadata": {},
   "outputs": [
    {
     "data": {
      "text/plain": [
       "np.int64(0)"
      ]
     },
     "execution_count": 88,
     "metadata": {},
     "output_type": "execute_result"
    }
   ],
   "source": [
    "Df.duplicated()#mostra valores duplicados\n",
    "#Df.drop_duplicates() elimina linhas duplicadas e retorna um novo DF"
   ]
  }
 ],
 "metadata": {
  "kernelspec": {
   "display_name": "Python 3",
   "language": "python",
   "name": "python3"
  },
  "language_info": {
   "codemirror_mode": {
    "name": "ipython",
    "version": 3
   },
   "file_extension": ".py",
   "mimetype": "text/x-python",
   "name": "python",
   "nbconvert_exporter": "python",
   "pygments_lexer": "ipython3",
   "version": "3.10.12"
  }
 },
 "nbformat": 4,
 "nbformat_minor": 2
}
